import numpy as np
import pandas as pd
import matplotlib.pyplot as plt








books_data = pd.read_csv(
    "data/Books.csv",
    na_values=["Unknown"], true_values=["yes", 1], false_values=["no", 2]
)


books_data


books_data.shape


type(books_data)


books_data.title


books_data.author


type(books_data.title)


pd.Series([1, 2, 3])


pd.DataFrame({
    "name": ["Michael", "Alice"],
    "age": [20, 19]
})


books_data.dtypes


books_data["pages"]


books_data.pages


books_data.pages.unique()


books_data.pages.astype(int)


books_data.pages = books_data.pages.replace("Unknown", np.nan)


books_data.pages.astype(float)


books_data.published_date.unique()


books_data.published_date.str.len()


books_data.published_date.str.len().value_counts()


















