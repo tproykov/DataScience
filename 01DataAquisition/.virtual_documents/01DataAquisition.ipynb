import numpy as np
import pandas as pd
import matplotlib.pyplot as plt








books_data = pd.read_csv("data/Books.csv")


books_data


books_data.shape


type(books_data)


books_data.title


books_data.author


type(books_data.title)


pd.Series([1, 2, 3])


pd.DataFrame({
    "name": ["Michael", "Alice"],
    "age": [20, 19]
})


books_data.dtypes


books_data["pages"]


books_data.pages


books_data.pages.unique()


books_data.pages.astype(int)


books_data.pages.replace("Unknown", np.nan)


books_data.pages.unique()



