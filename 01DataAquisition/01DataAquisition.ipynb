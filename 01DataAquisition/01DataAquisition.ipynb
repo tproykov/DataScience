{
 "cells": [
  {
   "cell_type": "code",
   "execution_count": 1,
   "id": "3141d0af-8ec5-43b1-8a61-401223c1499a",
   "metadata": {},
   "outputs": [],
   "source": [
    "import numpy as np\n",
    "import pandas as pd\n",
    "import matplotlib.pyplot as plt"
   ]
  },
  {
   "cell_type": "markdown",
   "id": "4956f191-583c-42dc-bbbd-dba1d5e536b7",
   "metadata": {},
   "source": [
    "# Data Aquisition"
   ]
  },
  {
   "cell_type": "markdown",
   "id": "fcc05eba-031f-4f67-8d6b-4828b1777c44",
   "metadata": {},
   "source": [
    "## Live Demos"
   ]
  },
  {
   "cell_type": "code",
   "execution_count": 23,
   "id": "30d056ee-b4d4-4ae4-88de-bf9469de1a3d",
   "metadata": {},
   "outputs": [],
   "source": [
    "books_data = pd.read_csv(\n",
    "    \"data/Books.csv\",\n",
    "    na_values=[\"Unknown\"], true_values=[\"yes\", 1], false_values=[\"no\", 2]\n",
    ")"
   ]
  },
  {
   "cell_type": "code",
   "execution_count": 24,
   "id": "56c803a6-36af-4dbb-878f-50be97cca0d9",
   "metadata": {},
   "outputs": [
    {
     "data": {
      "text/html": [
       "<div>\n",
       "<style scoped>\n",
       "    .dataframe tbody tr th:only-of-type {\n",
       "        vertical-align: middle;\n",
       "    }\n",
       "\n",
       "    .dataframe tbody tr th {\n",
       "        vertical-align: top;\n",
       "    }\n",
       "\n",
       "    .dataframe thead th {\n",
       "        text-align: right;\n",
       "    }\n",
       "</style>\n",
       "<table border=\"1\" class=\"dataframe\">\n",
       "  <thead>\n",
       "    <tr style=\"text-align: right;\">\n",
       "      <th></th>\n",
       "      <th>title</th>\n",
       "      <th>author</th>\n",
       "      <th>pages</th>\n",
       "      <th>genre</th>\n",
       "      <th>description</th>\n",
       "      <th>published_date</th>\n",
       "      <th>publisher</th>\n",
       "      <th>language</th>\n",
       "      <th>average_rating</th>\n",
       "      <th>ratings_count</th>\n",
       "      <th>thumbnail</th>\n",
       "    </tr>\n",
       "  </thead>\n",
       "  <tbody>\n",
       "    <tr>\n",
       "      <th>0</th>\n",
       "      <td>Fictional Points of View</td>\n",
       "      <td>Peter Lamarque</td>\n",
       "      <td>252.0</td>\n",
       "      <td>Literary Criticism</td>\n",
       "      <td>The volume focuses on a wide range of thinkers...</td>\n",
       "      <td>1996</td>\n",
       "      <td>Cornell University Press</td>\n",
       "      <td>en</td>\n",
       "      <td>No rating</td>\n",
       "      <td>0</td>\n",
       "      <td>http://books.google.com/books/content?id=rh-om...</td>\n",
       "    </tr>\n",
       "    <tr>\n",
       "      <th>1</th>\n",
       "      <td>Science Fiction and Fantasy Literature</td>\n",
       "      <td>R. Reginald, Douglas Menville, Mary A. Burgess</td>\n",
       "      <td>802.0</td>\n",
       "      <td>Reference</td>\n",
       "      <td>Science Fiction and Fantasy Literature, A Chec...</td>\n",
       "      <td>2010-09-01</td>\n",
       "      <td>Wildside Press LLC</td>\n",
       "      <td>en</td>\n",
       "      <td>No rating</td>\n",
       "      <td>0</td>\n",
       "      <td>http://books.google.com/books/content?id=P8zW2...</td>\n",
       "    </tr>\n",
       "    <tr>\n",
       "      <th>2</th>\n",
       "      <td>Library of Congress Subject Headings</td>\n",
       "      <td>Library of Congress. Cataloging Policy and Sup...</td>\n",
       "      <td>1662.0</td>\n",
       "      <td>Subject headings, Library of Congress</td>\n",
       "      <td>No description available</td>\n",
       "      <td>2004</td>\n",
       "      <td>Unknown Publisher</td>\n",
       "      <td>en</td>\n",
       "      <td>No rating</td>\n",
       "      <td>0</td>\n",
       "      <td>http://books.google.com/books/content?id=pEhkh...</td>\n",
       "    </tr>\n",
       "    <tr>\n",
       "      <th>3</th>\n",
       "      <td>Library of Congress Subject Headings</td>\n",
       "      <td>Library of Congress</td>\n",
       "      <td>1512.0</td>\n",
       "      <td>Subject headings, Library of Congress</td>\n",
       "      <td>No description available</td>\n",
       "      <td>2007</td>\n",
       "      <td>Unknown Publisher</td>\n",
       "      <td>en</td>\n",
       "      <td>No rating</td>\n",
       "      <td>0</td>\n",
       "      <td>http://books.google.com/books/content?id=FgAjF...</td>\n",
       "    </tr>\n",
       "    <tr>\n",
       "      <th>4</th>\n",
       "      <td>Fictional Space in the Modernist and Post-mode...</td>\n",
       "      <td>Carl Darryl Malmgren</td>\n",
       "      <td>248.0</td>\n",
       "      <td>Fiction</td>\n",
       "      <td>Fictional space is the imaginal expanse of fie...</td>\n",
       "      <td>1985</td>\n",
       "      <td>Bucknell University Press</td>\n",
       "      <td>en</td>\n",
       "      <td>No rating</td>\n",
       "      <td>0</td>\n",
       "      <td>http://books.google.com/books/content?id=KXzoz...</td>\n",
       "    </tr>\n",
       "    <tr>\n",
       "      <th>...</th>\n",
       "      <td>...</td>\n",
       "      <td>...</td>\n",
       "      <td>...</td>\n",
       "      <td>...</td>\n",
       "      <td>...</td>\n",
       "      <td>...</td>\n",
       "      <td>...</td>\n",
       "      <td>...</td>\n",
       "      <td>...</td>\n",
       "      <td>...</td>\n",
       "      <td>...</td>\n",
       "    </tr>\n",
       "    <tr>\n",
       "      <th>2044</th>\n",
       "      <td>The Index Card</td>\n",
       "      <td>Helaine Olen, Harold Pollack</td>\n",
       "      <td>256.0</td>\n",
       "      <td>Personal Finance</td>\n",
       "      <td>Simplifies personal finance to ten rules that ...</td>\n",
       "      <td>2016-01-05</td>\n",
       "      <td>Portfolio</td>\n",
       "      <td>en</td>\n",
       "      <td>4.0</td>\n",
       "      <td>30000</td>\n",
       "      <td>http://books.google.com/books/content?id=8z4_D...</td>\n",
       "    </tr>\n",
       "    <tr>\n",
       "      <th>2045</th>\n",
       "      <td>The Road to Wealth</td>\n",
       "      <td>Suze Orman</td>\n",
       "      <td>608.0</td>\n",
       "      <td>Personal Finance</td>\n",
       "      <td>A comprehensive guide to managing money, inves...</td>\n",
       "      <td>2001-04-01</td>\n",
       "      <td>Riverhead Books</td>\n",
       "      <td>en</td>\n",
       "      <td>4.1</td>\n",
       "      <td>50000</td>\n",
       "      <td>http://books.google.com/books/content?id=zv0oD...</td>\n",
       "    </tr>\n",
       "    <tr>\n",
       "      <th>2046</th>\n",
       "      <td>The Success Principles</td>\n",
       "      <td>Jack Canfield</td>\n",
       "      <td>512.0</td>\n",
       "      <td>Self-Help</td>\n",
       "      <td>A guide to achieving personal and financial su...</td>\n",
       "      <td>2004-12-28</td>\n",
       "      <td>HarperCollins</td>\n",
       "      <td>en</td>\n",
       "      <td>4.2</td>\n",
       "      <td>100000</td>\n",
       "      <td>http://books.google.com/books/content?id=7zL_D...</td>\n",
       "    </tr>\n",
       "    <tr>\n",
       "      <th>2047</th>\n",
       "      <td>The Courage to Be Rich</td>\n",
       "      <td>Suze Orman</td>\n",
       "      <td>448.0</td>\n",
       "      <td>Personal Finance</td>\n",
       "      <td>Combines emotional and practical advice for bu...</td>\n",
       "      <td>1999-03-01</td>\n",
       "      <td>Riverhead Books</td>\n",
       "      <td>en</td>\n",
       "      <td>4.0</td>\n",
       "      <td>40000</td>\n",
       "      <td>http://books.google.com/books/content?id=2c3_D...</td>\n",
       "    </tr>\n",
       "    <tr>\n",
       "      <th>2048</th>\n",
       "      <td>The Money Manual</td>\n",
       "      <td>Tonya Rapley</td>\n",
       "      <td>256.0</td>\n",
       "      <td>Personal Finance</td>\n",
       "      <td>A millennial-focused guide to budgeting, savin...</td>\n",
       "      <td>2023-05-16</td>\n",
       "      <td>Adams Media</td>\n",
       "      <td>en</td>\n",
       "      <td>4.2</td>\n",
       "      <td>20000</td>\n",
       "      <td>http://books.google.com/books/content?id=3z3_D...</td>\n",
       "    </tr>\n",
       "  </tbody>\n",
       "</table>\n",
       "<p>2049 rows × 11 columns</p>\n",
       "</div>"
      ],
      "text/plain": [
       "                                                  title  \\\n",
       "0                              Fictional Points of View   \n",
       "1                Science Fiction and Fantasy Literature   \n",
       "2                  Library of Congress Subject Headings   \n",
       "3                  Library of Congress Subject Headings   \n",
       "4     Fictional Space in the Modernist and Post-mode...   \n",
       "...                                                 ...   \n",
       "2044                                     The Index Card   \n",
       "2045                                 The Road to Wealth   \n",
       "2046                             The Success Principles   \n",
       "2047                             The Courage to Be Rich   \n",
       "2048                                   The Money Manual   \n",
       "\n",
       "                                                 author   pages  \\\n",
       "0                                        Peter Lamarque   252.0   \n",
       "1        R. Reginald, Douglas Menville, Mary A. Burgess   802.0   \n",
       "2     Library of Congress. Cataloging Policy and Sup...  1662.0   \n",
       "3                                   Library of Congress  1512.0   \n",
       "4                                  Carl Darryl Malmgren   248.0   \n",
       "...                                                 ...     ...   \n",
       "2044                       Helaine Olen, Harold Pollack   256.0   \n",
       "2045                                         Suze Orman   608.0   \n",
       "2046                                      Jack Canfield   512.0   \n",
       "2047                                         Suze Orman   448.0   \n",
       "2048                                       Tonya Rapley   256.0   \n",
       "\n",
       "                                      genre  \\\n",
       "0                        Literary Criticism   \n",
       "1                                 Reference   \n",
       "2     Subject headings, Library of Congress   \n",
       "3     Subject headings, Library of Congress   \n",
       "4                                   Fiction   \n",
       "...                                     ...   \n",
       "2044                       Personal Finance   \n",
       "2045                       Personal Finance   \n",
       "2046                              Self-Help   \n",
       "2047                       Personal Finance   \n",
       "2048                       Personal Finance   \n",
       "\n",
       "                                            description published_date  \\\n",
       "0     The volume focuses on a wide range of thinkers...           1996   \n",
       "1     Science Fiction and Fantasy Literature, A Chec...     2010-09-01   \n",
       "2                              No description available           2004   \n",
       "3                              No description available           2007   \n",
       "4     Fictional space is the imaginal expanse of fie...           1985   \n",
       "...                                                 ...            ...   \n",
       "2044  Simplifies personal finance to ten rules that ...     2016-01-05   \n",
       "2045  A comprehensive guide to managing money, inves...     2001-04-01   \n",
       "2046  A guide to achieving personal and financial su...     2004-12-28   \n",
       "2047  Combines emotional and practical advice for bu...     1999-03-01   \n",
       "2048  A millennial-focused guide to budgeting, savin...     2023-05-16   \n",
       "\n",
       "                      publisher language average_rating  ratings_count  \\\n",
       "0      Cornell University Press       en      No rating              0   \n",
       "1            Wildside Press LLC       en      No rating              0   \n",
       "2             Unknown Publisher       en      No rating              0   \n",
       "3             Unknown Publisher       en      No rating              0   \n",
       "4     Bucknell University Press       en      No rating              0   \n",
       "...                         ...      ...            ...            ...   \n",
       "2044                  Portfolio       en            4.0          30000   \n",
       "2045            Riverhead Books       en            4.1          50000   \n",
       "2046              HarperCollins       en            4.2         100000   \n",
       "2047            Riverhead Books       en            4.0          40000   \n",
       "2048                Adams Media       en            4.2          20000   \n",
       "\n",
       "                                              thumbnail  \n",
       "0     http://books.google.com/books/content?id=rh-om...  \n",
       "1     http://books.google.com/books/content?id=P8zW2...  \n",
       "2     http://books.google.com/books/content?id=pEhkh...  \n",
       "3     http://books.google.com/books/content?id=FgAjF...  \n",
       "4     http://books.google.com/books/content?id=KXzoz...  \n",
       "...                                                 ...  \n",
       "2044  http://books.google.com/books/content?id=8z4_D...  \n",
       "2045  http://books.google.com/books/content?id=zv0oD...  \n",
       "2046  http://books.google.com/books/content?id=7zL_D...  \n",
       "2047  http://books.google.com/books/content?id=2c3_D...  \n",
       "2048  http://books.google.com/books/content?id=3z3_D...  \n",
       "\n",
       "[2049 rows x 11 columns]"
      ]
     },
     "execution_count": 24,
     "metadata": {},
     "output_type": "execute_result"
    }
   ],
   "source": [
    "books_data"
   ]
  },
  {
   "cell_type": "code",
   "execution_count": 25,
   "id": "4098afec-34b3-4a3d-a312-4480cd33e8f8",
   "metadata": {},
   "outputs": [
    {
     "data": {
      "text/plain": [
       "(2049, 11)"
      ]
     },
     "execution_count": 25,
     "metadata": {},
     "output_type": "execute_result"
    }
   ],
   "source": [
    "books_data.shape"
   ]
  },
  {
   "cell_type": "code",
   "execution_count": 26,
   "id": "9c2ab096-c9e1-48da-a239-4b7f7af77e00",
   "metadata": {},
   "outputs": [
    {
     "data": {
      "text/plain": [
       "pandas.core.frame.DataFrame"
      ]
     },
     "execution_count": 26,
     "metadata": {},
     "output_type": "execute_result"
    }
   ],
   "source": [
    "type(books_data)"
   ]
  },
  {
   "cell_type": "code",
   "execution_count": 27,
   "id": "9741def0-e11a-4d48-8e5e-f598ac0fa2bf",
   "metadata": {},
   "outputs": [
    {
     "data": {
      "text/plain": [
       "0                                Fictional Points of View\n",
       "1                  Science Fiction and Fantasy Literature\n",
       "2                    Library of Congress Subject Headings\n",
       "3                    Library of Congress Subject Headings\n",
       "4       Fictional Space in the Modernist and Post-mode...\n",
       "                              ...                        \n",
       "2044                                       The Index Card\n",
       "2045                                   The Road to Wealth\n",
       "2046                               The Success Principles\n",
       "2047                               The Courage to Be Rich\n",
       "2048                                     The Money Manual\n",
       "Name: title, Length: 2049, dtype: object"
      ]
     },
     "execution_count": 27,
     "metadata": {},
     "output_type": "execute_result"
    }
   ],
   "source": [
    "books_data.title"
   ]
  },
  {
   "cell_type": "code",
   "execution_count": 28,
   "id": "3a729cf6-174e-47d2-b8f2-c6a89dda420e",
   "metadata": {},
   "outputs": [
    {
     "data": {
      "text/plain": [
       "0                                          Peter Lamarque\n",
       "1          R. Reginald, Douglas Menville, Mary A. Burgess\n",
       "2       Library of Congress. Cataloging Policy and Sup...\n",
       "3                                     Library of Congress\n",
       "4                                    Carl Darryl Malmgren\n",
       "                              ...                        \n",
       "2044                         Helaine Olen, Harold Pollack\n",
       "2045                                           Suze Orman\n",
       "2046                                        Jack Canfield\n",
       "2047                                           Suze Orman\n",
       "2048                                         Tonya Rapley\n",
       "Name: author, Length: 2049, dtype: object"
      ]
     },
     "execution_count": 28,
     "metadata": {},
     "output_type": "execute_result"
    }
   ],
   "source": [
    "books_data.author"
   ]
  },
  {
   "cell_type": "code",
   "execution_count": 29,
   "id": "5cd87247-cfc3-431c-a2ef-ea13868b2b8e",
   "metadata": {},
   "outputs": [
    {
     "data": {
      "text/plain": [
       "pandas.core.series.Series"
      ]
     },
     "execution_count": 29,
     "metadata": {},
     "output_type": "execute_result"
    }
   ],
   "source": [
    "type(books_data.title)"
   ]
  },
  {
   "cell_type": "code",
   "execution_count": 30,
   "id": "3a272839-2aae-4499-abb5-c95e1b36a888",
   "metadata": {},
   "outputs": [
    {
     "data": {
      "text/plain": [
       "0    1\n",
       "1    2\n",
       "2    3\n",
       "dtype: int64"
      ]
     },
     "execution_count": 30,
     "metadata": {},
     "output_type": "execute_result"
    }
   ],
   "source": [
    "pd.Series([1, 2, 3])"
   ]
  },
  {
   "cell_type": "code",
   "execution_count": 31,
   "id": "c189dc87-22ab-4ca1-adec-98b9e0d4832a",
   "metadata": {},
   "outputs": [
    {
     "data": {
      "text/html": [
       "<div>\n",
       "<style scoped>\n",
       "    .dataframe tbody tr th:only-of-type {\n",
       "        vertical-align: middle;\n",
       "    }\n",
       "\n",
       "    .dataframe tbody tr th {\n",
       "        vertical-align: top;\n",
       "    }\n",
       "\n",
       "    .dataframe thead th {\n",
       "        text-align: right;\n",
       "    }\n",
       "</style>\n",
       "<table border=\"1\" class=\"dataframe\">\n",
       "  <thead>\n",
       "    <tr style=\"text-align: right;\">\n",
       "      <th></th>\n",
       "      <th>name</th>\n",
       "      <th>age</th>\n",
       "    </tr>\n",
       "  </thead>\n",
       "  <tbody>\n",
       "    <tr>\n",
       "      <th>0</th>\n",
       "      <td>Michael</td>\n",
       "      <td>20</td>\n",
       "    </tr>\n",
       "    <tr>\n",
       "      <th>1</th>\n",
       "      <td>Alice</td>\n",
       "      <td>19</td>\n",
       "    </tr>\n",
       "  </tbody>\n",
       "</table>\n",
       "</div>"
      ],
      "text/plain": [
       "      name  age\n",
       "0  Michael   20\n",
       "1    Alice   19"
      ]
     },
     "execution_count": 31,
     "metadata": {},
     "output_type": "execute_result"
    }
   ],
   "source": [
    "pd.DataFrame({\n",
    "    \"name\": [\"Michael\", \"Alice\"],\n",
    "    \"age\": [20, 19]\n",
    "})"
   ]
  },
  {
   "cell_type": "code",
   "execution_count": 32,
   "id": "47038f1f-dc7c-41a5-b79f-c8dc79941496",
   "metadata": {},
   "outputs": [
    {
     "data": {
      "text/plain": [
       "title              object\n",
       "author             object\n",
       "pages             float64\n",
       "genre              object\n",
       "description        object\n",
       "published_date     object\n",
       "publisher          object\n",
       "language           object\n",
       "average_rating     object\n",
       "ratings_count       int64\n",
       "thumbnail          object\n",
       "dtype: object"
      ]
     },
     "execution_count": 32,
     "metadata": {},
     "output_type": "execute_result"
    }
   ],
   "source": [
    "books_data.dtypes"
   ]
  },
  {
   "cell_type": "code",
   "execution_count": 12,
   "id": "339c49cb-2385-42e6-b1c9-1e1e2c07b171",
   "metadata": {},
   "outputs": [
    {
     "data": {
      "text/plain": [
       "0        252\n",
       "1        802\n",
       "2       1662\n",
       "3       1512\n",
       "4        248\n",
       "        ... \n",
       "2044     256\n",
       "2045     608\n",
       "2046     512\n",
       "2047     448\n",
       "2048     256\n",
       "Name: pages, Length: 2049, dtype: object"
      ]
     },
     "execution_count": 12,
     "metadata": {},
     "output_type": "execute_result"
    }
   ],
   "source": [
    "books_data[\"pages\"]"
   ]
  },
  {
   "cell_type": "code",
   "execution_count": 13,
   "id": "f6e71773-d0d8-4ba6-88bf-2b15881900bc",
   "metadata": {},
   "outputs": [
    {
     "data": {
      "text/plain": [
       "0        252\n",
       "1        802\n",
       "2       1662\n",
       "3       1512\n",
       "4        248\n",
       "        ... \n",
       "2044     256\n",
       "2045     608\n",
       "2046     512\n",
       "2047     448\n",
       "2048     256\n",
       "Name: pages, Length: 2049, dtype: object"
      ]
     },
     "execution_count": 13,
     "metadata": {},
     "output_type": "execute_result"
    }
   ],
   "source": [
    "books_data.pages"
   ]
  },
  {
   "cell_type": "code",
   "execution_count": 14,
   "id": "f7956fb9-7c0b-45ef-9756-59d5d1e9c8b1",
   "metadata": {},
   "outputs": [
    {
     "data": {
      "text/plain": [
       "array(['252', '802', '1662', '1512', '248', '337', '384', '230', '178',\n",
       "       '692', '604', '206', '838', '314', '64', '234', '644', '224',\n",
       "       '652', '104', '1082', '1592', '1112', '780', '370', '254', '526',\n",
       "       '562', '32', '194', '896', '268', '82', '196', '160', '882', '242',\n",
       "       '816', '1306', '122', '134', '290', '282', '172', '204', '142',\n",
       "       '40', '102', '136', '130', '164', '238', '156', '144', '132',\n",
       "       '212', '150', '298', '107', '138', '148', '250', '152', '886',\n",
       "       '800', '522', '814', '332', '2131', '303', '200', '267', '528',\n",
       "       '382', '309', '670', '222', '624', '490', '608', '554', '805',\n",
       "       '18', '596', '112', '1525', '400', '654', '71', '432', '538',\n",
       "       '1034', '872', '636', '368', '85', '244', '2936', '322', '440',\n",
       "       '416', '316', '472', '513', '928', '1900', '498', '1816', '372',\n",
       "       '296', '628', '1448', '80', '84', '189', '1735', '243', '304',\n",
       "       '223', '572', '168', '466', '1152', '702', '418', '329', '161',\n",
       "       '566', '560', '271', '517', '186', '165', '292', '79', '149',\n",
       "       '240', '251', '258', '145', '190', '159', '317', '69', '209',\n",
       "       '225', '197', '504', '162', '68', '365', '460', '320', '286',\n",
       "       '420', '228', '1474', '1117', '263', '1172', '2198', '260', '180',\n",
       "       '1121', '394', '948', '302', '247', '2822', '643', '288', '527',\n",
       "       '281', '774', '568', '1352', '253', '291', '1105', '207', '245',\n",
       "       '185', '328', '274', '239', '236', '338', '61', '342', '297',\n",
       "       '579', '231', '1343', '139', '454', '203', '166', '100', '98',\n",
       "       '232', '195', '500', '362', '710', '408', '126', '480', '41',\n",
       "       '293', '14', '74', '198', '220', '192', '335', '321', '233', '403',\n",
       "       '54', '387', '276', '576', '1555', '279', '1123', '208', '307',\n",
       "       '347', '49', '450', '424', '686', '371', '350', '326', '714',\n",
       "       '458', '657', '496', '506', '448', '986', '259', '402', '334',\n",
       "       '131', '214', '295', '264', '340', '26', '1278', '629', '367',\n",
       "       '977', '410', '626', '793', '640', '278', '128', '287', '532',\n",
       "       'Unknown', '124', '412', '536', '235', '289', '57', '357', '116',\n",
       "       '444', '674', '542', '773', '348', '58', '656', '12', '1304',\n",
       "       '294', '1402', '840', '900', '2012', '912', '1084', '44', '336',\n",
       "       '183', '708', '174', '1342', '1078', '376', '1550', '924', '312',\n",
       "       '1916', '1248', '380', '812', '2186', '756', '158', '140', '170',\n",
       "       '176', '300', '266', '726', '740', '864', '318', '374', '632',\n",
       "       '1131', '1188', '1602', '1076', '1328', '703', '1745', '601',\n",
       "       '922', '944', '1122', '832', '1120', '505', '356', '994', '1390',\n",
       "       '796', '229', '75', '558', '426', '364', '704', '1104', '1108',\n",
       "       '421', '958', '2666', '177', '781', '658', '445', '625', '284',\n",
       "       '1030', '594', '863', '556', '36', '580', '782', '125', '153',\n",
       "       '1992', '133', '3347', '1124', '810', '1040', '449', '22', '1008',\n",
       "       '305', '1118', '668', '443', '1154', '246', '492', '39', '524',\n",
       "       '666', '694', '888', '742', '1016', '471', '877', '1209', '442',\n",
       "       '689', '555', '913', '776', '1166', '1436', '499', '734', '324',\n",
       "       '795', '664', '764', '1596', '1174', '794', '762', '1334', '1456',\n",
       "       '462', '16', '135', '898', '88', '453', '788', '147', '684', '685',\n",
       "       '52', '1699', '390', '120', '319', '94', '744', '1454', '344',\n",
       "       '718', '1262', '936', '392', '13', '2419', '11', '341', '590',\n",
       "       '1516', '182', '616', '772', '754', '73', '226', '1380', '89',\n",
       "       '108', '972', '1096', '824', '361', '494', '1376', '508', '904',\n",
       "       '1042', '690', '118', '1038', '808', '434', '202', '548', '193',\n",
       "       '378', '105', '553', '748', '598', '1532', '482', '249', '916',\n",
       "       '730', '114', '806', '352', '272', '860', '775', '474', '564',\n",
       "       '404', '660', '363', '1396', '874', '663', '469', '346', '739',\n",
       "       '1434', '713', '313', '745', '19', '3907', '8114', '865', '90',\n",
       "       '488', '175', '401', '501', '129', '237', '46', '587', '188', '76',\n",
       "       '354', '678', '56', '1128', '306', '967', '325', '2116', '955',\n",
       "       '612', '457', '497', '589', '620', '280', '273', '308', '349',\n",
       "       '752', '452', '818', '330', '728', '475', '862', '277', '391',\n",
       "       '519', '641', '417', '509', '529', '353', '964', '34', '92', '397',\n",
       "       '539', '369', '1608', '1546', '137', '51', '1146', '199', '146',\n",
       "       '171', '261', '876', '950', '219', '828', '106', '210', '360',\n",
       "       '78', '530', '269', '1048', '1778', '1062', '940', '1446', '20',\n",
       "       '1060', '1208', '339', '385', '1224', '425', '1286', '586', '446',\n",
       "       '569', '386', '436', '1192', '516', '637', '1074', '216', '351',\n",
       "       '396', '270', '221', '962', '255', '121', '1026', '691', '681',\n",
       "       '9', '311', '582', '25', '1011', '66', '38', '109', '437', '241',\n",
       "       '33', '217', '256', '515', '1381', '3682', '966', '123', '113',\n",
       "       '60', '343', '10', '191', '167', '65', '597', '23', '1003', '327',\n",
       "       '406', '1635', '1714', '53', '2034', '163', '67', '173', '345',\n",
       "       '154', '62', '35', '29', '48', '439', '849', '393', '534', '299',\n",
       "       '409', '310', '1218', '1346', '502', '512', '398', '381', '724',\n",
       "       '540', '283', '110', '43', '50', '333', '465', '583', '484', '786',\n",
       "       '856', '187', '613', '935', '521', '518', '184', '388', '262',\n",
       "       '722', '602', '323', '570', '205', '366', '143', '96', '763',\n",
       "       '459', '201', '787', '265', '95', '111', '70', '24', '476', '5494',\n",
       "       '379', '630', '99', '633', '511', '559', '227', '47', '31', '17',\n",
       "       '55', '45', '285', '1168', '880', '8', '464', '688', '960', '954',\n",
       "       '565', '3219', '585', '414', '615', '544', '884', '407', '680',\n",
       "       '672', '957', '545', '430', '411', '169', '1244', '1242', '257',\n",
       "       '115', '1724', '1452', '1510', '1418', '1986', '736', '30', '1282',\n",
       "       '28', '676', '419', '623', '1598', '3101', '155', '211', '37',\n",
       "       '707', '81', '1303', '1292', '389', '1017', '1392', '1476', '1677',\n",
       "       '1220', '902', '1092', '1243', '869', '798', '669', '93', '179',\n",
       "       '157', '1977', '117', '533', '1455', '218', '1368', '701', '578',\n",
       "       '1110', '574', '141', '3095', '1180', '600', '427', '2622', '873',\n",
       "       '932', '621', '609', '438', '870', '1791', '377', '447', '1230',\n",
       "       '819', '87', '2279'], dtype=object)"
      ]
     },
     "execution_count": 14,
     "metadata": {},
     "output_type": "execute_result"
    }
   ],
   "source": [
    "books_data.pages.unique()"
   ]
  },
  {
   "cell_type": "code",
   "execution_count": 15,
   "id": "b35f6896-cb1f-45c7-ad99-cffeee82ad12",
   "metadata": {},
   "outputs": [
    {
     "ename": "ValueError",
     "evalue": "invalid literal for int() with base 10: 'Unknown'",
     "output_type": "error",
     "traceback": [
      "\u001b[1;31m---------------------------------------------------------------------------\u001b[0m",
      "\u001b[1;31mValueError\u001b[0m                                Traceback (most recent call last)",
      "Cell \u001b[1;32mIn[15], line 1\u001b[0m\n\u001b[1;32m----> 1\u001b[0m books_data\u001b[38;5;241m.\u001b[39mpages\u001b[38;5;241m.\u001b[39mastype(\u001b[38;5;28mint\u001b[39m)\n",
      "File \u001b[1;32mC:\\ProgramData\\anaconda3\\Lib\\site-packages\\pandas\\core\\generic.py:6643\u001b[0m, in \u001b[0;36mNDFrame.astype\u001b[1;34m(self, dtype, copy, errors)\u001b[0m\n\u001b[0;32m   6637\u001b[0m     results \u001b[38;5;241m=\u001b[39m [\n\u001b[0;32m   6638\u001b[0m         ser\u001b[38;5;241m.\u001b[39mastype(dtype, copy\u001b[38;5;241m=\u001b[39mcopy, errors\u001b[38;5;241m=\u001b[39merrors) \u001b[38;5;28;01mfor\u001b[39;00m _, ser \u001b[38;5;129;01min\u001b[39;00m \u001b[38;5;28mself\u001b[39m\u001b[38;5;241m.\u001b[39mitems()\n\u001b[0;32m   6639\u001b[0m     ]\n\u001b[0;32m   6641\u001b[0m \u001b[38;5;28;01melse\u001b[39;00m:\n\u001b[0;32m   6642\u001b[0m     \u001b[38;5;66;03m# else, only a single dtype is given\u001b[39;00m\n\u001b[1;32m-> 6643\u001b[0m     new_data \u001b[38;5;241m=\u001b[39m \u001b[38;5;28mself\u001b[39m\u001b[38;5;241m.\u001b[39m_mgr\u001b[38;5;241m.\u001b[39mastype(dtype\u001b[38;5;241m=\u001b[39mdtype, copy\u001b[38;5;241m=\u001b[39mcopy, errors\u001b[38;5;241m=\u001b[39merrors)\n\u001b[0;32m   6644\u001b[0m     res \u001b[38;5;241m=\u001b[39m \u001b[38;5;28mself\u001b[39m\u001b[38;5;241m.\u001b[39m_constructor_from_mgr(new_data, axes\u001b[38;5;241m=\u001b[39mnew_data\u001b[38;5;241m.\u001b[39maxes)\n\u001b[0;32m   6645\u001b[0m     \u001b[38;5;28;01mreturn\u001b[39;00m res\u001b[38;5;241m.\u001b[39m__finalize__(\u001b[38;5;28mself\u001b[39m, method\u001b[38;5;241m=\u001b[39m\u001b[38;5;124m\"\u001b[39m\u001b[38;5;124mastype\u001b[39m\u001b[38;5;124m\"\u001b[39m)\n",
      "File \u001b[1;32mC:\\ProgramData\\anaconda3\\Lib\\site-packages\\pandas\\core\\internals\\managers.py:430\u001b[0m, in \u001b[0;36mBaseBlockManager.astype\u001b[1;34m(self, dtype, copy, errors)\u001b[0m\n\u001b[0;32m    427\u001b[0m \u001b[38;5;28;01melif\u001b[39;00m using_copy_on_write():\n\u001b[0;32m    428\u001b[0m     copy \u001b[38;5;241m=\u001b[39m \u001b[38;5;28;01mFalse\u001b[39;00m\n\u001b[1;32m--> 430\u001b[0m \u001b[38;5;28;01mreturn\u001b[39;00m \u001b[38;5;28mself\u001b[39m\u001b[38;5;241m.\u001b[39mapply(\n\u001b[0;32m    431\u001b[0m     \u001b[38;5;124m\"\u001b[39m\u001b[38;5;124mastype\u001b[39m\u001b[38;5;124m\"\u001b[39m,\n\u001b[0;32m    432\u001b[0m     dtype\u001b[38;5;241m=\u001b[39mdtype,\n\u001b[0;32m    433\u001b[0m     copy\u001b[38;5;241m=\u001b[39mcopy,\n\u001b[0;32m    434\u001b[0m     errors\u001b[38;5;241m=\u001b[39merrors,\n\u001b[0;32m    435\u001b[0m     using_cow\u001b[38;5;241m=\u001b[39musing_copy_on_write(),\n\u001b[0;32m    436\u001b[0m )\n",
      "File \u001b[1;32mC:\\ProgramData\\anaconda3\\Lib\\site-packages\\pandas\\core\\internals\\managers.py:363\u001b[0m, in \u001b[0;36mBaseBlockManager.apply\u001b[1;34m(self, f, align_keys, **kwargs)\u001b[0m\n\u001b[0;32m    361\u001b[0m         applied \u001b[38;5;241m=\u001b[39m b\u001b[38;5;241m.\u001b[39mapply(f, \u001b[38;5;241m*\u001b[39m\u001b[38;5;241m*\u001b[39mkwargs)\n\u001b[0;32m    362\u001b[0m     \u001b[38;5;28;01melse\u001b[39;00m:\n\u001b[1;32m--> 363\u001b[0m         applied \u001b[38;5;241m=\u001b[39m \u001b[38;5;28mgetattr\u001b[39m(b, f)(\u001b[38;5;241m*\u001b[39m\u001b[38;5;241m*\u001b[39mkwargs)\n\u001b[0;32m    364\u001b[0m     result_blocks \u001b[38;5;241m=\u001b[39m extend_blocks(applied, result_blocks)\n\u001b[0;32m    366\u001b[0m out \u001b[38;5;241m=\u001b[39m \u001b[38;5;28mtype\u001b[39m(\u001b[38;5;28mself\u001b[39m)\u001b[38;5;241m.\u001b[39mfrom_blocks(result_blocks, \u001b[38;5;28mself\u001b[39m\u001b[38;5;241m.\u001b[39maxes)\n",
      "File \u001b[1;32mC:\\ProgramData\\anaconda3\\Lib\\site-packages\\pandas\\core\\internals\\blocks.py:758\u001b[0m, in \u001b[0;36mBlock.astype\u001b[1;34m(self, dtype, copy, errors, using_cow, squeeze)\u001b[0m\n\u001b[0;32m    755\u001b[0m         \u001b[38;5;28;01mraise\u001b[39;00m \u001b[38;5;167;01mValueError\u001b[39;00m(\u001b[38;5;124m\"\u001b[39m\u001b[38;5;124mCan not squeeze with more than one column.\u001b[39m\u001b[38;5;124m\"\u001b[39m)\n\u001b[0;32m    756\u001b[0m     values \u001b[38;5;241m=\u001b[39m values[\u001b[38;5;241m0\u001b[39m, :]  \u001b[38;5;66;03m# type: ignore[call-overload]\u001b[39;00m\n\u001b[1;32m--> 758\u001b[0m new_values \u001b[38;5;241m=\u001b[39m astype_array_safe(values, dtype, copy\u001b[38;5;241m=\u001b[39mcopy, errors\u001b[38;5;241m=\u001b[39merrors)\n\u001b[0;32m    760\u001b[0m new_values \u001b[38;5;241m=\u001b[39m maybe_coerce_values(new_values)\n\u001b[0;32m    762\u001b[0m refs \u001b[38;5;241m=\u001b[39m \u001b[38;5;28;01mNone\u001b[39;00m\n",
      "File \u001b[1;32mC:\\ProgramData\\anaconda3\\Lib\\site-packages\\pandas\\core\\dtypes\\astype.py:237\u001b[0m, in \u001b[0;36mastype_array_safe\u001b[1;34m(values, dtype, copy, errors)\u001b[0m\n\u001b[0;32m    234\u001b[0m     dtype \u001b[38;5;241m=\u001b[39m dtype\u001b[38;5;241m.\u001b[39mnumpy_dtype\n\u001b[0;32m    236\u001b[0m \u001b[38;5;28;01mtry\u001b[39;00m:\n\u001b[1;32m--> 237\u001b[0m     new_values \u001b[38;5;241m=\u001b[39m astype_array(values, dtype, copy\u001b[38;5;241m=\u001b[39mcopy)\n\u001b[0;32m    238\u001b[0m \u001b[38;5;28;01mexcept\u001b[39;00m (\u001b[38;5;167;01mValueError\u001b[39;00m, \u001b[38;5;167;01mTypeError\u001b[39;00m):\n\u001b[0;32m    239\u001b[0m     \u001b[38;5;66;03m# e.g. _astype_nansafe can fail on object-dtype of strings\u001b[39;00m\n\u001b[0;32m    240\u001b[0m     \u001b[38;5;66;03m#  trying to convert to float\u001b[39;00m\n\u001b[0;32m    241\u001b[0m     \u001b[38;5;28;01mif\u001b[39;00m errors \u001b[38;5;241m==\u001b[39m \u001b[38;5;124m\"\u001b[39m\u001b[38;5;124mignore\u001b[39m\u001b[38;5;124m\"\u001b[39m:\n",
      "File \u001b[1;32mC:\\ProgramData\\anaconda3\\Lib\\site-packages\\pandas\\core\\dtypes\\astype.py:182\u001b[0m, in \u001b[0;36mastype_array\u001b[1;34m(values, dtype, copy)\u001b[0m\n\u001b[0;32m    179\u001b[0m     values \u001b[38;5;241m=\u001b[39m values\u001b[38;5;241m.\u001b[39mastype(dtype, copy\u001b[38;5;241m=\u001b[39mcopy)\n\u001b[0;32m    181\u001b[0m \u001b[38;5;28;01melse\u001b[39;00m:\n\u001b[1;32m--> 182\u001b[0m     values \u001b[38;5;241m=\u001b[39m _astype_nansafe(values, dtype, copy\u001b[38;5;241m=\u001b[39mcopy)\n\u001b[0;32m    184\u001b[0m \u001b[38;5;66;03m# in pandas we don't store numpy str dtypes, so convert to object\u001b[39;00m\n\u001b[0;32m    185\u001b[0m \u001b[38;5;28;01mif\u001b[39;00m \u001b[38;5;28misinstance\u001b[39m(dtype, np\u001b[38;5;241m.\u001b[39mdtype) \u001b[38;5;129;01mand\u001b[39;00m \u001b[38;5;28missubclass\u001b[39m(values\u001b[38;5;241m.\u001b[39mdtype\u001b[38;5;241m.\u001b[39mtype, \u001b[38;5;28mstr\u001b[39m):\n",
      "File \u001b[1;32mC:\\ProgramData\\anaconda3\\Lib\\site-packages\\pandas\\core\\dtypes\\astype.py:133\u001b[0m, in \u001b[0;36m_astype_nansafe\u001b[1;34m(arr, dtype, copy, skipna)\u001b[0m\n\u001b[0;32m    129\u001b[0m     \u001b[38;5;28;01mraise\u001b[39;00m \u001b[38;5;167;01mValueError\u001b[39;00m(msg)\n\u001b[0;32m    131\u001b[0m \u001b[38;5;28;01mif\u001b[39;00m copy \u001b[38;5;129;01mor\u001b[39;00m arr\u001b[38;5;241m.\u001b[39mdtype \u001b[38;5;241m==\u001b[39m \u001b[38;5;28mobject\u001b[39m \u001b[38;5;129;01mor\u001b[39;00m dtype \u001b[38;5;241m==\u001b[39m \u001b[38;5;28mobject\u001b[39m:\n\u001b[0;32m    132\u001b[0m     \u001b[38;5;66;03m# Explicit copy, or required since NumPy can't view from / to object.\u001b[39;00m\n\u001b[1;32m--> 133\u001b[0m     \u001b[38;5;28;01mreturn\u001b[39;00m arr\u001b[38;5;241m.\u001b[39mastype(dtype, copy\u001b[38;5;241m=\u001b[39m\u001b[38;5;28;01mTrue\u001b[39;00m)\n\u001b[0;32m    135\u001b[0m \u001b[38;5;28;01mreturn\u001b[39;00m arr\u001b[38;5;241m.\u001b[39mastype(dtype, copy\u001b[38;5;241m=\u001b[39mcopy)\n",
      "\u001b[1;31mValueError\u001b[0m: invalid literal for int() with base 10: 'Unknown'"
     ]
    }
   ],
   "source": [
    "books_data.pages.astype(int)"
   ]
  },
  {
   "cell_type": "code",
   "execution_count": 20,
   "id": "4d03a49c-d958-4795-b32b-91b2fcb05c5b",
   "metadata": {},
   "outputs": [],
   "source": [
    "books_data.pages = books_data.pages.replace(\"Unknown\", np.nan)"
   ]
  },
  {
   "cell_type": "code",
   "execution_count": 22,
   "id": "04e96bc9-22f6-4c49-8b34-e25993b0441f",
   "metadata": {},
   "outputs": [
    {
     "data": {
      "text/plain": [
       "0        252.0\n",
       "1        802.0\n",
       "2       1662.0\n",
       "3       1512.0\n",
       "4        248.0\n",
       "         ...  \n",
       "2044     256.0\n",
       "2045     608.0\n",
       "2046     512.0\n",
       "2047     448.0\n",
       "2048     256.0\n",
       "Name: pages, Length: 2049, dtype: float64"
      ]
     },
     "execution_count": 22,
     "metadata": {},
     "output_type": "execute_result"
    }
   ],
   "source": [
    "books_data.pages.astype(float)"
   ]
  },
  {
   "cell_type": "code",
   "execution_count": 33,
   "id": "e4e777c6-a10f-4f60-9a92-bed87e4c680f",
   "metadata": {},
   "outputs": [
    {
     "data": {
      "text/plain": [
       "array(['1996', '2010-09-01', '2004', ..., '2004-12-28', '1999-03-01',\n",
       "       '2023-05-16'], dtype=object)"
      ]
     },
     "execution_count": 33,
     "metadata": {},
     "output_type": "execute_result"
    }
   ],
   "source": [
    "books_data.published_date.unique()"
   ]
  },
  {
   "cell_type": "code",
   "execution_count": 34,
   "id": "54a020e6-b69e-44d3-a93b-9e507bcf9015",
   "metadata": {},
   "outputs": [
    {
     "data": {
      "text/plain": [
       "0        4.0\n",
       "1       10.0\n",
       "2        4.0\n",
       "3        4.0\n",
       "4        4.0\n",
       "        ... \n",
       "2044    10.0\n",
       "2045    10.0\n",
       "2046    10.0\n",
       "2047    10.0\n",
       "2048    10.0\n",
       "Name: published_date, Length: 2049, dtype: float64"
      ]
     },
     "execution_count": 34,
     "metadata": {},
     "output_type": "execute_result"
    }
   ],
   "source": [
    "books_data.published_date.str.len()"
   ]
  },
  {
   "cell_type": "code",
   "execution_count": 35,
   "id": "ee82d225-488f-489d-94b3-01b7bf91e3d6",
   "metadata": {},
   "outputs": [
    {
     "data": {
      "text/plain": [
       "published_date\n",
       "10.0    1142\n",
       "4.0      711\n",
       "7.0      108\n",
       "9.0        1\n",
       "25.0       1\n",
       "Name: count, dtype: int64"
      ]
     },
     "execution_count": 35,
     "metadata": {},
     "output_type": "execute_result"
    }
   ],
   "source": [
    "books_data.published_date.str.len().value_counts()"
   ]
  },
  {
   "cell_type": "code",
   "execution_count": 36,
   "id": "e7286ad7-1b98-40aa-8a34-d9207d4f7ece",
   "metadata": {},
   "outputs": [
    {
     "data": {
      "text/plain": [
       "10"
      ]
     },
     "execution_count": 36,
     "metadata": {},
     "output_type": "execute_result"
    }
   ],
   "source": [
    "len(\"2025-06-24\")"
   ]
  },
  {
   "cell_type": "code",
   "execution_count": 38,
   "id": "d79e38f9-187c-4ed3-a5bf-e432439f2919",
   "metadata": {},
   "outputs": [
    {
     "data": {
      "text/html": [
       "<div>\n",
       "<style scoped>\n",
       "    .dataframe tbody tr th:only-of-type {\n",
       "        vertical-align: middle;\n",
       "    }\n",
       "\n",
       "    .dataframe tbody tr th {\n",
       "        vertical-align: top;\n",
       "    }\n",
       "\n",
       "    .dataframe thead th {\n",
       "        text-align: right;\n",
       "    }\n",
       "</style>\n",
       "<table border=\"1\" class=\"dataframe\">\n",
       "  <thead>\n",
       "    <tr style=\"text-align: right;\">\n",
       "      <th></th>\n",
       "      <th>title</th>\n",
       "      <th>author</th>\n",
       "      <th>pages</th>\n",
       "      <th>genre</th>\n",
       "      <th>description</th>\n",
       "      <th>published_date</th>\n",
       "      <th>publisher</th>\n",
       "      <th>language</th>\n",
       "      <th>average_rating</th>\n",
       "      <th>ratings_count</th>\n",
       "      <th>thumbnail</th>\n",
       "    </tr>\n",
       "  </thead>\n",
       "  <tbody>\n",
       "    <tr>\n",
       "      <th>1820</th>\n",
       "      <td>L'amore bugiardo</td>\n",
       "      <td>Gillian Flynn</td>\n",
       "      <td>528.0</td>\n",
       "      <td>Fiction</td>\n",
       "      <td>DA QUESTO LIBRO IL FILM DIRETTO DA DAVID FINCH...</td>\n",
       "      <td>2012-12-13T00:00:00+01:00</td>\n",
       "      <td>Rizzoli First</td>\n",
       "      <td>it</td>\n",
       "      <td>No rating</td>\n",
       "      <td>0</td>\n",
       "      <td>http://books.google.com/books/content?id=8eTf5...</td>\n",
       "    </tr>\n",
       "  </tbody>\n",
       "</table>\n",
       "</div>"
      ],
      "text/plain": [
       "                 title         author  pages    genre  \\\n",
       "1820  L'amore bugiardo  Gillian Flynn  528.0  Fiction   \n",
       "\n",
       "                                            description  \\\n",
       "1820  DA QUESTO LIBRO IL FILM DIRETTO DA DAVID FINCH...   \n",
       "\n",
       "                 published_date      publisher language average_rating  \\\n",
       "1820  2012-12-13T00:00:00+01:00  Rizzoli First       it      No rating   \n",
       "\n",
       "      ratings_count                                          thumbnail  \n",
       "1820              0  http://books.google.com/books/content?id=8eTf5...  "
      ]
     },
     "execution_count": 38,
     "metadata": {},
     "output_type": "execute_result"
    }
   ],
   "source": [
    "books_data[\n",
    "    books_data.published_date.str.len() == 25\n",
    "]"
   ]
  },
  {
   "cell_type": "code",
   "execution_count": 41,
   "id": "3d52e281-e549-4f94-b590-0365f289bf4d",
   "metadata": {},
   "outputs": [
    {
     "data": {
      "text/html": [
       "<div>\n",
       "<style scoped>\n",
       "    .dataframe tbody tr th:only-of-type {\n",
       "        vertical-align: middle;\n",
       "    }\n",
       "\n",
       "    .dataframe tbody tr th {\n",
       "        vertical-align: top;\n",
       "    }\n",
       "\n",
       "    .dataframe thead th {\n",
       "        text-align: right;\n",
       "    }\n",
       "</style>\n",
       "<table border=\"1\" class=\"dataframe\">\n",
       "  <thead>\n",
       "    <tr style=\"text-align: right;\">\n",
       "      <th></th>\n",
       "      <th>title</th>\n",
       "      <th>author</th>\n",
       "      <th>pages</th>\n",
       "      <th>genre</th>\n",
       "      <th>description</th>\n",
       "      <th>published_date</th>\n",
       "      <th>publisher</th>\n",
       "      <th>language</th>\n",
       "      <th>average_rating</th>\n",
       "      <th>ratings_count</th>\n",
       "      <th>thumbnail</th>\n",
       "    </tr>\n",
       "  </thead>\n",
       "  <tbody>\n",
       "    <tr>\n",
       "      <th>1196</th>\n",
       "      <td>Agatha Christie: The Queen of Murder Mysteries...</td>\n",
       "      <td>Daniel McGee</td>\n",
       "      <td>132.0</td>\n",
       "      <td>Biography &amp; Autobiography</td>\n",
       "      <td>A fascinating exploration of the contents of a...</td>\n",
       "      <td>101-01-01</td>\n",
       "      <td>Daniel McGee</td>\n",
       "      <td>en</td>\n",
       "      <td>No rating</td>\n",
       "      <td>0</td>\n",
       "      <td>http://books.google.com/books/content?id=gMkSE...</td>\n",
       "    </tr>\n",
       "  </tbody>\n",
       "</table>\n",
       "</div>"
      ],
      "text/plain": [
       "                                                  title        author  pages  \\\n",
       "1196  Agatha Christie: The Queen of Murder Mysteries...  Daniel McGee  132.0   \n",
       "\n",
       "                          genre  \\\n",
       "1196  Biography & Autobiography   \n",
       "\n",
       "                                            description published_date  \\\n",
       "1196  A fascinating exploration of the contents of a...      101-01-01   \n",
       "\n",
       "         publisher language average_rating  ratings_count  \\\n",
       "1196  Daniel McGee       en      No rating              0   \n",
       "\n",
       "                                              thumbnail  \n",
       "1196  http://books.google.com/books/content?id=gMkSE...  "
      ]
     },
     "execution_count": 41,
     "metadata": {},
     "output_type": "execute_result"
    }
   ],
   "source": [
    "books_data[\n",
    "    books_data.published_date.str.len() == 9\n",
    "]"
   ]
  },
  {
   "cell_type": "code",
   "execution_count": null,
   "id": "b2cc7350-76f9-49e6-a1ac-3f4a0ff87cdd",
   "metadata": {},
   "outputs": [],
   "source": []
  },
  {
   "cell_type": "code",
   "execution_count": null,
   "id": "95152a09-0037-4466-9715-6aefb78a85be",
   "metadata": {},
   "outputs": [],
   "source": []
  },
  {
   "cell_type": "code",
   "execution_count": null,
   "id": "3e5b17e2-bca4-462f-92f8-d6f803f371a9",
   "metadata": {},
   "outputs": [],
   "source": []
  }
 ],
 "metadata": {
  "citation-manager": {
   "items": {}
  },
  "kernelspec": {
   "display_name": "Python 3 (ipykernel)",
   "language": "python",
   "name": "python3"
  },
  "language_info": {
   "codemirror_mode": {
    "name": "ipython",
    "version": 3
   },
   "file_extension": ".py",
   "mimetype": "text/x-python",
   "name": "python",
   "nbconvert_exporter": "python",
   "pygments_lexer": "ipython3",
   "version": "3.12.3"
  }
 },
 "nbformat": 4,
 "nbformat_minor": 5
}
